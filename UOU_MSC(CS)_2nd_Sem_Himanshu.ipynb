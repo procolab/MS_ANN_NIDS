{
  "nbformat": 4,
  "nbformat_minor": 0,
  "metadata": {
    "colab": {
      "provenance": [],
      "mount_file_id": "1iHWgAAE__cnWZElwE19kJQAGmdEC4Z_h",
      "authorship_tag": "ABX9TyPfhpc7YMnKzKyTBgCl6Zb/",
      "include_colab_link": true
    },
    "kernelspec": {
      "name": "python3",
      "display_name": "Python 3"
    },
    "language_info": {
      "name": "python"
    }
  },
  "cells": [
    {
      "cell_type": "markdown",
      "metadata": {
        "id": "view-in-github",
        "colab_type": "text"
      },
      "source": [
        "<a href=\"https://colab.research.google.com/github/procolab/MS_ANN_NIDS/blob/main/UOU_MSC(CS)_2nd_Sem_Himanshu.ipynb\" target=\"_parent\"><img src=\"https://colab.research.google.com/assets/colab-badge.svg\" alt=\"Open In Colab\"/></a>"
      ]
    },
    {
      "cell_type": "markdown",
      "source": [
        "**Auther**</br>\n",
        "**Project**- *Intrusion Detection System Using Artificial Neural Network*</br>\n",
        "**Name**- *Himanshu Chauhan*</br>\n",
        "**Enrollment Number**- *23326680*</br>\n",
        "**Email**- *himanshuutail@gmail.com*</br>\n",
        "**GitHub**- *https://github.com/procolab/MS_ANN_NIDS.git*</br>\n",
        "\n",
        "</br>\n",
        "\n",
        "**Problem Statement:** The task is to build a network intrusion detector, a predictive model capable of distinguishing between bad connections, called intrusions or attacks, and good normal connections.\n",
        "\n",
        "</br>\n",
        "\n",
        "**Introduction:**\n",
        "Intrusion Detection System is a software application to detect network intrusion using various machine learning algorithms. IDS monitors a network or system for malicious activity and protects a computer network from unauthorized access from users, including perhaps insider. The intrusion detector learning task is to build a predictive model (i.e. a classifier) capable of distinguishing between ‘bad connections’ (intrusion/attacks) and a ‘good (normal) connections’.\n",
        "</br>\n",
        "**Attacks fall into four main categories:**</br>\n",
        "**#DOS:** denial-of-service, e.g. syn flood.</br>\n",
        "**#R2L:** unauthorized access from a remote machine, e.g. guessing password.</br>\n",
        "**#U2R:** unauthorized access to local superuser (root) privileges, e.g., various “buffer overflow” attacks.</br>\n",
        "**#probing:** surveillance and another probing, e.g., port scanning.</br>"
      ],
      "metadata": {
        "id": "k00l_rgdqf1D"
      }
    },
    {
      "cell_type": "markdown",
      "source": [
        "**Dataset Description:** Data files:\n",
        "\n",
        "*   **kddcup.names :** A list of features.\n",
        "*   **kddcup.data.gz :** The full data set\n",
        "*   **kddcup.data_10_percent.gz :** A 10% subset.\n",
        "*   **kddcup.newtestdata_10_percent_unlabeled.gz**\n",
        "*   **kddcup.testdata.unlabeled.gz**\n",
        "*   **kddcup.testdata.unlabeled_10_percent.gz**\n",
        "*   **corrected.gz :** Test data with corrected labels.\n",
        "*   **training_attack_types :** A list of intrusion types.\n",
        "*   **typo-correction.txt :** A brief note on a typo in the data set that has been corrected."
      ],
      "metadata": {
        "id": "Qvsl8zEpUbzL"
      }
    },
    {
      "cell_type": "markdown",
      "source": [
        "**----------------------------------------------------------------------**"
      ],
      "metadata": {
        "id": "mEOquC1fA1Al"
      }
    },
    {
      "cell_type": "markdown",
      "source": [
        "Building a **Network Intrusion Detection System (NIDS)** using an **Artificial Neural Network (ANN)** in Google Colab involves several steps, including data loading, preprocessing, model creation, training, and testing. I'll provide a detailed code example, including explanations at each stage, to ensure in-depth understanding."
      ],
      "metadata": {
        "id": "p_b2wx1aA-i_"
      }
    },
    {
      "cell_type": "markdown",
      "source": [
        "**Step 1:** Import Necessary Libraries"
      ],
      "metadata": {
        "id": "XT7cEBqzBEc2"
      }
    },
    {
      "cell_type": "code",
      "source": [
        "import pandas as pd\n",
        "import numpy as np\n",
        "from sklearn.model_selection import train_test_split\n",
        "from sklearn.preprocessing import LabelEncoder, StandardScaler\n",
        "from tensorflow.keras.models import Sequential\n",
        "from tensorflow.keras.layers import Dense, Dropout\n",
        "from sklearn.metrics import classification_report, confusion_matrix, accuracy_score\n",
        "import matplotlib.pyplot as plt\n",
        "from google.colab import drive"
      ],
      "metadata": {
        "id": "4Vo0d-HZBM8K"
      },
      "execution_count": 71,
      "outputs": []
    },
    {
      "cell_type": "markdown",
      "source": [
        "**Step 2:** Mount Google Drive (for dataset access)"
      ],
      "metadata": {
        "id": "zpDQAYhoBTb7"
      }
    },
    {
      "cell_type": "code",
      "source": [
        "# Mount Google Drive to access datasets\n",
        "drive.mount('/content/drive')"
      ],
      "metadata": {
        "colab": {
          "base_uri": "https://localhost:8080/",
          "height": 0
        },
        "id": "PS_A7zCkBWdK",
        "outputId": "da5e15a1-a3f0-4522-9d32-f538ca88f1a4"
      },
      "execution_count": 72,
      "outputs": [
        {
          "output_type": "stream",
          "name": "stdout",
          "text": [
            "Drive already mounted at /content/drive; to attempt to forcibly remount, call drive.mount(\"/content/drive\", force_remount=True).\n"
          ]
        }
      ]
    },
    {
      "cell_type": "markdown",
      "source": [
        "**Step 3:** Load and Preprocess the Dataset"
      ],
      "metadata": {
        "id": "MV2wkIeCBgHn"
      }
    },
    {
      "cell_type": "markdown",
      "source": [
        "We'll use the **KDD Cup 1999 dataset**, a standard dataset for NIDS tasks. Ensure the dataset is uploaded to your Google Drive."
      ],
      "metadata": {
        "id": "3yHUP-NFBoKc"
      }
    },
    {
      "cell_type": "code",
      "source": [
        "# Load the dataset from Google Drive\n",
        "file_path = '/content/drive/MyDrive/Shared/kddcup/kddcup.data_10_percent_corrected'\n",
        "\n",
        "# Define column names\n",
        "column_names = [\"duration\",\"protocol_type\",\"service\",\"flag\",\"src_bytes\",\"dst_bytes\",\"land\",\"wrong_fragment\",\n",
        "                \"urgent\",\"hot\",\"num_failed_logins\",\"logged_in\",\"num_compromised\",\"root_shell\",\"su_attempted\",\n",
        "                \"num_root\",\"num_file_creations\",\"num_shells\",\"num_access_files\",\"num_outbound_cmds\",\"is_host_login\",\n",
        "                \"is_guest_login\",\"count\",\"srv_count\",\"serror_rate\",\"srv_serror_rate\",\"rerror_rate\",\"srv_rerror_rate\",\n",
        "                \"same_srv_rate\",\"diff_srv_rate\",\"srv_diff_host_rate\",\"dst_host_count\",\"dst_host_srv_count\",\n",
        "                \"dst_host_same_srv_rate\",\"dst_host_diff_srv_rate\",\"dst_host_same_src_port_rate\",\n",
        "                \"dst_host_srv_diff_host_rate\",\"dst_host_serror_rate\",\"dst_host_srv_serror_rate\",\n",
        "                \"dst_host_rerror_rate\",\"dst_host_srv_rerror_rate\",\"label\"]\n",
        "\n",
        "data = pd.read_csv(file_path, header=None, names=column_names)\n",
        "\n",
        "# Explore the dataset\n",
        "print(\"Dataset shape:\", data.shape)\n",
        "print(\"First few rows of the dataset:\")\n",
        "print(data.head())"
      ],
      "metadata": {
        "colab": {
          "base_uri": "https://localhost:8080/",
          "height": 0
        },
        "id": "Vk3CzK2NBre9",
        "outputId": "b0ce9468-1080-41c6-cec8-5ce36db653e5"
      },
      "execution_count": 73,
      "outputs": [
        {
          "output_type": "stream",
          "name": "stdout",
          "text": [
            "Dataset shape: (494021, 42)\n",
            "First few rows of the dataset:\n",
            "   duration protocol_type service flag  src_bytes  dst_bytes  land  \\\n",
            "0         0           tcp    http   SF        181       5450     0   \n",
            "1         0           tcp    http   SF        239        486     0   \n",
            "2         0           tcp    http   SF        235       1337     0   \n",
            "3         0           tcp    http   SF        219       1337     0   \n",
            "4         0           tcp    http   SF        217       2032     0   \n",
            "\n",
            "   wrong_fragment  urgent  hot  ...  dst_host_srv_count  \\\n",
            "0               0       0    0  ...                   9   \n",
            "1               0       0    0  ...                  19   \n",
            "2               0       0    0  ...                  29   \n",
            "3               0       0    0  ...                  39   \n",
            "4               0       0    0  ...                  49   \n",
            "\n",
            "   dst_host_same_srv_rate  dst_host_diff_srv_rate  \\\n",
            "0                     1.0                     0.0   \n",
            "1                     1.0                     0.0   \n",
            "2                     1.0                     0.0   \n",
            "3                     1.0                     0.0   \n",
            "4                     1.0                     0.0   \n",
            "\n",
            "   dst_host_same_src_port_rate  dst_host_srv_diff_host_rate  \\\n",
            "0                         0.11                          0.0   \n",
            "1                         0.05                          0.0   \n",
            "2                         0.03                          0.0   \n",
            "3                         0.03                          0.0   \n",
            "4                         0.02                          0.0   \n",
            "\n",
            "   dst_host_serror_rate  dst_host_srv_serror_rate  dst_host_rerror_rate  \\\n",
            "0                   0.0                       0.0                   0.0   \n",
            "1                   0.0                       0.0                   0.0   \n",
            "2                   0.0                       0.0                   0.0   \n",
            "3                   0.0                       0.0                   0.0   \n",
            "4                   0.0                       0.0                   0.0   \n",
            "\n",
            "   dst_host_srv_rerror_rate    label  \n",
            "0                       0.0  normal.  \n",
            "1                       0.0  normal.  \n",
            "2                       0.0  normal.  \n",
            "3                       0.0  normal.  \n",
            "4                       0.0  normal.  \n",
            "\n",
            "[5 rows x 42 columns]\n"
          ]
        }
      ]
    },
    {
      "cell_type": "markdown",
      "source": [
        "**Step 4:** Encode Categorical Features"
      ],
      "metadata": {
        "id": "gaL-GV3UCEiz"
      }
    },
    {
      "cell_type": "markdown",
      "source": [
        "We need to convert categorical features into numerical values using Label Encoding."
      ],
      "metadata": {
        "id": "HvtPWLO7CLm3"
      }
    },
    {
      "cell_type": "code",
      "source": [
        "# Encode categorical features\n",
        "le = LabelEncoder()\n",
        "data['protocol_type'] = le.fit_transform(data['protocol_type'])\n",
        "data['service'] = le.fit_transform(data['service'])\n",
        "data['flag'] = le.fit_transform(data['flag'])\n",
        "\n",
        "# Encode the target variable (labels)\n",
        "data['label'] = data['label'].apply(lambda x: 0 if x == 'normal.' else 1)\n",
        "\n",
        "# Verify encoding\n",
        "print(\"Encoded dataset:\")\n",
        "print(data.head())"
      ],
      "metadata": {
        "colab": {
          "base_uri": "https://localhost:8080/",
          "height": 0
        },
        "id": "CQyz2Ue3CUKZ",
        "outputId": "1fd88c81-9fba-43db-cbf0-c501c9ca1cd1"
      },
      "execution_count": 74,
      "outputs": [
        {
          "output_type": "stream",
          "name": "stdout",
          "text": [
            "Encoded dataset:\n",
            "   duration  protocol_type  service  flag  src_bytes  dst_bytes  land  \\\n",
            "0         0              1       22     9        181       5450     0   \n",
            "1         0              1       22     9        239        486     0   \n",
            "2         0              1       22     9        235       1337     0   \n",
            "3         0              1       22     9        219       1337     0   \n",
            "4         0              1       22     9        217       2032     0   \n",
            "\n",
            "   wrong_fragment  urgent  hot  ...  dst_host_srv_count  \\\n",
            "0               0       0    0  ...                   9   \n",
            "1               0       0    0  ...                  19   \n",
            "2               0       0    0  ...                  29   \n",
            "3               0       0    0  ...                  39   \n",
            "4               0       0    0  ...                  49   \n",
            "\n",
            "   dst_host_same_srv_rate  dst_host_diff_srv_rate  \\\n",
            "0                     1.0                     0.0   \n",
            "1                     1.0                     0.0   \n",
            "2                     1.0                     0.0   \n",
            "3                     1.0                     0.0   \n",
            "4                     1.0                     0.0   \n",
            "\n",
            "   dst_host_same_src_port_rate  dst_host_srv_diff_host_rate  \\\n",
            "0                         0.11                          0.0   \n",
            "1                         0.05                          0.0   \n",
            "2                         0.03                          0.0   \n",
            "3                         0.03                          0.0   \n",
            "4                         0.02                          0.0   \n",
            "\n",
            "   dst_host_serror_rate  dst_host_srv_serror_rate  dst_host_rerror_rate  \\\n",
            "0                   0.0                       0.0                   0.0   \n",
            "1                   0.0                       0.0                   0.0   \n",
            "2                   0.0                       0.0                   0.0   \n",
            "3                   0.0                       0.0                   0.0   \n",
            "4                   0.0                       0.0                   0.0   \n",
            "\n",
            "   dst_host_srv_rerror_rate  label  \n",
            "0                       0.0      0  \n",
            "1                       0.0      0  \n",
            "2                       0.0      0  \n",
            "3                       0.0      0  \n",
            "4                       0.0      0  \n",
            "\n",
            "[5 rows x 42 columns]\n"
          ]
        }
      ]
    },
    {
      "cell_type": "markdown",
      "source": [
        "**Step 5:** Feature Scaling"
      ],
      "metadata": {
        "id": "GKhat-rRCeQE"
      }
    },
    {
      "cell_type": "markdown",
      "source": [
        "Normalize the data to ensure that each feature contributes equally to the model."
      ],
      "metadata": {
        "id": "FJIQcVbMCkwd"
      }
    },
    {
      "cell_type": "code",
      "source": [
        "# Separate features and target variable\n",
        "X = data.iloc[:, :-1].values\n",
        "y = data.iloc[:, -1].values\n",
        "\n",
        "# Standardize the feature values\n",
        "scaler = StandardScaler()\n",
        "X = scaler.fit_transform(X)\n",
        "\n",
        "# Verify scaling\n",
        "print(\"First few rows of scaled features:\")\n",
        "print(X[:5])"
      ],
      "metadata": {
        "colab": {
          "base_uri": "https://localhost:8080/",
          "height": 0
        },
        "id": "63K-NGZgCoGk",
        "outputId": "c5659847-8810-4967-a530-66fea4cb33b8"
      },
      "execution_count": 75,
      "outputs": [
        {
          "output_type": "stream",
          "name": "stdout",
          "text": [
            "First few rows of scaled features:\n",
            "[[-6.77917205e-02  9.25753062e-01 -1.04067101e-01  5.14273922e-01\n",
            "  -2.87852770e-03  1.38664408e-01 -6.67341765e-03 -4.77201854e-02\n",
            "  -2.57146810e-03 -4.41359116e-02 -9.78218463e-03  2.39697959e+00\n",
            "  -5.67868416e-03 -1.05519522e-02 -4.67567073e-03 -5.64001207e-03\n",
            "  -1.12320815e-02 -9.91897493e-03 -2.76318157e-02  0.00000000e+00\n",
            "   0.00000000e+00 -3.72626624e-02 -1.52141663e+00 -1.15664009e+00\n",
            "  -4.64089752e-01 -4.63520471e-01 -2.47960476e-01 -2.48631282e-01\n",
            "   5.36987403e-01 -2.55243389e-01 -2.03633068e-01 -3.45153588e+00\n",
            "  -1.69431452e+00  5.99396187e-01 -2.82866677e-01 -1.02207729e+00\n",
            "  -1.58629293e-01 -4.64417626e-01 -4.63202392e-01 -2.52039522e-01\n",
            "  -2.49464005e-01]\n",
            " [-6.77917205e-02  9.25753062e-01 -1.04067101e-01  5.14273922e-01\n",
            "  -2.81983614e-03 -1.15778692e-02 -6.67341765e-03 -4.77201854e-02\n",
            "  -2.57146810e-03 -4.41359116e-02 -9.78218463e-03  2.39697959e+00\n",
            "  -5.67868416e-03 -1.05519522e-02 -4.67567073e-03 -5.64001207e-03\n",
            "  -1.12320815e-02 -9.91897493e-03 -2.76318157e-02  0.00000000e+00\n",
            "   0.00000000e+00 -3.72626624e-02 -1.52141663e+00 -1.15664009e+00\n",
            "  -4.64089752e-01 -4.63520471e-01 -2.47960476e-01 -2.48631282e-01\n",
            "   5.36987403e-01 -2.55243389e-01 -2.03633068e-01 -3.29708455e+00\n",
            "  -1.60001077e+00  5.99396187e-01 -2.82866677e-01 -1.14673739e+00\n",
            "  -1.58629293e-01 -4.64417626e-01 -4.63202392e-01 -2.52039522e-01\n",
            "  -2.49464005e-01]\n",
            " [-6.77917205e-02  9.25753062e-01 -1.04067101e-01  5.14273922e-01\n",
            "  -2.82388383e-03  1.41788145e-02 -6.67341765e-03 -4.77201854e-02\n",
            "  -2.57146810e-03 -4.41359116e-02 -9.78218463e-03  2.39697959e+00\n",
            "  -5.67868416e-03 -1.05519522e-02 -4.67567073e-03 -5.64001207e-03\n",
            "  -1.12320815e-02 -9.91897493e-03 -2.76318157e-02  0.00000000e+00\n",
            "   0.00000000e+00 -3.72626624e-02 -1.52141663e+00 -1.15664009e+00\n",
            "  -4.64089752e-01 -4.63520471e-01 -2.47960476e-01 -2.48631282e-01\n",
            "   5.36987403e-01 -2.55243389e-01 -2.03633068e-01 -3.14263322e+00\n",
            "  -1.50570703e+00  5.99396187e-01 -2.82866677e-01 -1.18829076e+00\n",
            "  -1.58629293e-01 -4.64417626e-01 -4.63202392e-01 -2.52039522e-01\n",
            "  -2.49464005e-01]\n",
            " [-6.77917205e-02  9.25753062e-01 -1.04067101e-01  5.14273922e-01\n",
            "  -2.84007461e-03  1.41788145e-02 -6.67341765e-03 -4.77201854e-02\n",
            "  -2.57146810e-03 -4.41359116e-02 -9.78218463e-03  2.39697959e+00\n",
            "  -5.67868416e-03 -1.05519522e-02 -4.67567073e-03 -5.64001207e-03\n",
            "  -1.12320815e-02 -9.91897493e-03 -2.76318157e-02  0.00000000e+00\n",
            "   0.00000000e+00 -3.72626624e-02 -1.53079982e+00 -1.16475952e+00\n",
            "  -4.64089752e-01 -4.63520471e-01 -2.47960476e-01 -2.48631282e-01\n",
            "   5.36987403e-01 -2.55243389e-01 -2.03633068e-01 -2.98818189e+00\n",
            "  -1.41140329e+00  5.99396187e-01 -2.82866677e-01 -1.18829076e+00\n",
            "  -1.58629293e-01 -4.64417626e-01 -4.63202392e-01 -2.52039522e-01\n",
            "  -2.49464005e-01]\n",
            " [-6.77917205e-02  9.25753062e-01 -1.04067101e-01  5.14273922e-01\n",
            "  -2.84209846e-03  3.52139440e-02 -6.67341765e-03 -4.77201854e-02\n",
            "  -2.57146810e-03 -4.41359116e-02 -9.78218463e-03  2.39697959e+00\n",
            "  -5.67868416e-03 -1.05519522e-02 -4.67567073e-03 -5.64001207e-03\n",
            "  -1.12320815e-02 -9.91897493e-03 -2.76318157e-02  0.00000000e+00\n",
            "   0.00000000e+00 -3.72626624e-02 -1.53079982e+00 -1.16475952e+00\n",
            "  -4.64089752e-01 -4.63520471e-01 -2.47960476e-01 -2.48631282e-01\n",
            "   5.36987403e-01 -2.55243389e-01 -2.03633068e-01 -2.83373056e+00\n",
            "  -1.31709954e+00  5.99396187e-01 -2.82866677e-01 -1.20906744e+00\n",
            "  -1.58629293e-01 -4.64417626e-01 -4.63202392e-01 -2.52039522e-01\n",
            "  -2.49464005e-01]]\n"
          ]
        }
      ]
    },
    {
      "cell_type": "markdown",
      "source": [
        "**Step 6:** Split Data into Training and Testing Sets"
      ],
      "metadata": {
        "id": "ikpRvCe5CzCQ"
      }
    },
    {
      "cell_type": "markdown",
      "source": [
        "We’ll split the data into **70% training** and **30% testing**."
      ],
      "metadata": {
        "id": "02N15fYnC4Ck"
      }
    },
    {
      "cell_type": "code",
      "source": [
        "X_train, X_test, y_train, y_test = train_test_split(X, y, test_size=0.3, random_state=42, stratify=y)\n",
        "\n",
        "print(\"Training set shape:\", X_train.shape)\n",
        "print(\"Testing set shape:\", X_test.shape)"
      ],
      "metadata": {
        "colab": {
          "base_uri": "https://localhost:8080/",
          "height": 0
        },
        "id": "VUCTExeQC_rG",
        "outputId": "f03e4f7b-bee1-4eb6-bbce-42942da1a327"
      },
      "execution_count": 76,
      "outputs": [
        {
          "output_type": "stream",
          "name": "stdout",
          "text": [
            "Training set shape: (345814, 41)\n",
            "Testing set shape: (148207, 41)\n"
          ]
        }
      ]
    },
    {
      "cell_type": "markdown",
      "source": [
        "**Step 7:** Build the ANN Model"
      ],
      "metadata": {
        "id": "6ACItCw6DGK9"
      }
    },
    {
      "cell_type": "markdown",
      "source": [
        "We’ll create a deep learning model using Keras, consisting of multiple layers including **input**, **hidden**, and **output** layers."
      ],
      "metadata": {
        "id": "qrCp4dn8DKmS"
      }
    },
    {
      "cell_type": "code",
      "source": [
        "# Initialize the ANN model\n",
        "model = Sequential()\n",
        "\n",
        "# Input layer and first hidden layer\n",
        "model.add(Dense(units=64, activation='relu', input_shape=(X_train.shape[1],)))\n",
        "model.add(Dropout(0.5))  # Add dropout for regularization\n",
        "\n",
        "# Second hidden layer\n",
        "model.add(Dense(units=32, activation='relu'))\n",
        "model.add(Dropout(0.5))  # Add dropout for regularization\n",
        "\n",
        "# Third hidden layer\n",
        "model.add(Dense(units=16, activation='relu'))\n",
        "model.add(Dropout(0.5))  # Add dropout for regularization\n",
        "\n",
        "# Output layer\n",
        "model.add(Dense(units=1, activation='sigmoid'))\n",
        "\n",
        "# Compile the model\n",
        "model.compile(optimizer='adam', loss='binary_crossentropy', metrics=['accuracy'])\n",
        "\n",
        "# Display model summary\n",
        "model.summary()"
      ],
      "metadata": {
        "colab": {
          "base_uri": "https://localhost:8080/",
          "height": 0
        },
        "id": "A8xhfOzBDRju",
        "outputId": "8d4f2197-5bf3-4d49-b435-7f6839fa7813"
      },
      "execution_count": 77,
      "outputs": [
        {
          "output_type": "stream",
          "name": "stdout",
          "text": [
            "Model: \"sequential_1\"\n",
            "_________________________________________________________________\n",
            " Layer (type)                Output Shape              Param #   \n",
            "=================================================================\n",
            " dense_4 (Dense)             (None, 64)                2688      \n",
            "                                                                 \n",
            " dropout (Dropout)           (None, 64)                0         \n",
            "                                                                 \n",
            " dense_5 (Dense)             (None, 32)                2080      \n",
            "                                                                 \n",
            " dropout_1 (Dropout)         (None, 32)                0         \n",
            "                                                                 \n",
            " dense_6 (Dense)             (None, 16)                528       \n",
            "                                                                 \n",
            " dropout_2 (Dropout)         (None, 16)                0         \n",
            "                                                                 \n",
            " dense_7 (Dense)             (None, 1)                 17        \n",
            "                                                                 \n",
            "=================================================================\n",
            "Total params: 5313 (20.75 KB)\n",
            "Trainable params: 5313 (20.75 KB)\n",
            "Non-trainable params: 0 (0.00 Byte)\n",
            "_________________________________________________________________\n"
          ]
        }
      ]
    },
    {
      "cell_type": "markdown",
      "source": [
        "**Step 8:** Train the Model"
      ],
      "metadata": {
        "id": "E1btMNthDZxV"
      }
    },
    {
      "cell_type": "markdown",
      "source": [
        "Train the model using the training data. We’ll also include validation data to monitor the model’s performance during training."
      ],
      "metadata": {
        "id": "jJSxN4QDDdHp"
      }
    },
    {
      "cell_type": "code",
      "source": [
        "# Train the model\n",
        "history = model.fit(X_train, y_train, epochs=20, batch_size=64, validation_split=0.2, verbose=1)\n",
        "\n",
        "# Visualize training process\n",
        "plt.figure(figsize=(12, 4))\n",
        "\n",
        "# Plot training & validation accuracy values\n",
        "plt.subplot(1, 2, 1)\n",
        "plt.plot(history.history['accuracy'], label='Train')\n",
        "plt.plot(history.history['val_accuracy'], label='Validation')\n",
        "plt.title('Model accuracy')\n",
        "plt.ylabel('Accuracy')\n",
        "plt.xlabel('Epoch')\n",
        "plt.legend(loc='upper left')\n",
        "\n",
        "# Plot training & validation loss values\n",
        "plt.subplot(1, 2, 2)\n",
        "plt.plot(history.history['loss'], label='Train')\n",
        "plt.plot(history.history['val_loss'], label='Validation')\n",
        "plt.title('Model loss')\n",
        "plt.ylabel('Loss')\n",
        "plt.xlabel('Epoch')\n",
        "plt.legend(loc='upper left')\n",
        "\n",
        "plt.show()"
      ],
      "metadata": {
        "colab": {
          "base_uri": "https://localhost:8080/",
          "height": 1104
        },
        "id": "b-Qa8kMTDlIZ",
        "outputId": "11fb63cb-65cf-4ad4-e4d5-10135e99a42a"
      },
      "execution_count": 78,
      "outputs": [
        {
          "output_type": "stream",
          "name": "stdout",
          "text": [
            "Epoch 1/20\n",
            "4323/4323 [==============================] - 24s 5ms/step - loss: 0.0549 - accuracy: 0.9838 - val_loss: 0.0093 - val_accuracy: 0.9984\n",
            "Epoch 2/20\n",
            "4323/4323 [==============================] - 16s 4ms/step - loss: 0.0161 - accuracy: 0.9961 - val_loss: 0.0077 - val_accuracy: 0.9988\n",
            "Epoch 3/20\n",
            "4323/4323 [==============================] - 16s 4ms/step - loss: 0.0117 - accuracy: 0.9964 - val_loss: 0.0088 - val_accuracy: 0.9979\n",
            "Epoch 4/20\n",
            "4323/4323 [==============================] - 16s 4ms/step - loss: 0.0097 - accuracy: 0.9968 - val_loss: 0.0101 - val_accuracy: 0.9990\n",
            "Epoch 5/20\n",
            "4323/4323 [==============================] - 18s 4ms/step - loss: 0.0099 - accuracy: 0.9970 - val_loss: 0.0115 - val_accuracy: 0.9990\n",
            "Epoch 6/20\n",
            "4323/4323 [==============================] - 17s 4ms/step - loss: 0.0090 - accuracy: 0.9967 - val_loss: 0.0123 - val_accuracy: 0.9990\n",
            "Epoch 7/20\n",
            "4323/4323 [==============================] - 18s 4ms/step - loss: 0.0099 - accuracy: 0.9971 - val_loss: 0.0145 - val_accuracy: 0.9993\n",
            "Epoch 8/20\n",
            "4323/4323 [==============================] - 17s 4ms/step - loss: 0.0086 - accuracy: 0.9970 - val_loss: 0.0174 - val_accuracy: 0.9992\n",
            "Epoch 9/20\n",
            "4323/4323 [==============================] - 19s 4ms/step - loss: 0.0086 - accuracy: 0.9971 - val_loss: 0.0160 - val_accuracy: 0.9986\n",
            "Epoch 10/20\n",
            "4323/4323 [==============================] - 17s 4ms/step - loss: 0.0083 - accuracy: 0.9971 - val_loss: 0.0185 - val_accuracy: 0.9992\n",
            "Epoch 11/20\n",
            "4323/4323 [==============================] - 15s 4ms/step - loss: 0.0083 - accuracy: 0.9972 - val_loss: 0.0194 - val_accuracy: 0.9991\n",
            "Epoch 12/20\n",
            "4323/4323 [==============================] - 16s 4ms/step - loss: 0.0120 - accuracy: 0.9972 - val_loss: 0.0180 - val_accuracy: 0.9992\n",
            "Epoch 13/20\n",
            "4323/4323 [==============================] - 19s 4ms/step - loss: 0.0077 - accuracy: 0.9974 - val_loss: 0.0262 - val_accuracy: 0.9992\n",
            "Epoch 14/20\n",
            "4323/4323 [==============================] - 17s 4ms/step - loss: 0.0086 - accuracy: 0.9974 - val_loss: 0.0258 - val_accuracy: 0.9992\n",
            "Epoch 15/20\n",
            "4323/4323 [==============================] - 17s 4ms/step - loss: 0.0081 - accuracy: 0.9971 - val_loss: 0.0304 - val_accuracy: 0.9993\n",
            "Epoch 16/20\n",
            "4323/4323 [==============================] - 19s 4ms/step - loss: 0.0076 - accuracy: 0.9972 - val_loss: 0.0303 - val_accuracy: 0.9993\n",
            "Epoch 17/20\n",
            "4323/4323 [==============================] - 18s 4ms/step - loss: 0.0091 - accuracy: 0.9973 - val_loss: 0.0358 - val_accuracy: 0.9991\n",
            "Epoch 18/20\n",
            "4323/4323 [==============================] - 15s 4ms/step - loss: 0.0125 - accuracy: 0.9972 - val_loss: 0.0413 - val_accuracy: 0.9992\n",
            "Epoch 19/20\n",
            "4323/4323 [==============================] - 16s 4ms/step - loss: 0.0079 - accuracy: 0.9975 - val_loss: 0.0418 - val_accuracy: 0.9992\n",
            "Epoch 20/20\n",
            "4323/4323 [==============================] - 15s 4ms/step - loss: 0.0079 - accuracy: 0.9972 - val_loss: 0.0434 - val_accuracy: 0.9993\n"
          ]
        },
        {
          "output_type": "display_data",
          "data": {
            "text/plain": [
              "<Figure size 1200x400 with 2 Axes>"
            ],
            "image/png": "[encoded data removed]"
          },
          "metadata": {}
        }
      ]
    },
    {
      "cell_type": "markdown",
      "source": [
        "**Step 9:** Evaluate the Model on Test Data"
      ],
      "metadata": {
        "id": "CayQEXZmFMBY"
      }
    },
    {
      "cell_type": "markdown",
      "source": [
        "Evaluate the model’s performance using the testing dataset."
      ],
      "metadata": {
        "id": "fVRvPI08FSoP"
      }
    },
    {
      "cell_type": "code",
      "source": [
        "# Evaluate the model\n",
        "y_pred = model.predict(X_test)\n",
        "y_pred = (y_pred > 0.5).astype(int)\n",
        "\n",
        "# Print the evaluation metrics\n",
        "accuracy = accuracy_score(y_test, y_pred)\n",
        "conf_matrix = confusion_matrix(y_test, y_pred)\n",
        "class_report = classification_report(y_test, y_pred)\n",
        "\n",
        "print(f\"Accuracy: {accuracy:.4f}\")\n",
        "print(\"Confusion Matrix:\")\n",
        "print(conf_matrix)\n",
        "print(\"Classification Report:\")\n",
        "print(class_report)"
      ],
      "metadata": {
        "colab": {
          "base_uri": "https://localhost:8080/",
          "height": 0
        },
        "id": "VGRyNa3JFVaj",
        "outputId": "d857de57-2447-4696-a855-3c8f9899227c"
      },
      "execution_count": 79,
      "outputs": [
        {
          "output_type": "stream",
          "name": "stdout",
          "text": [
            "4632/4632 [==============================] - 13s 3ms/step\n",
            "Accuracy: 0.9992\n",
            "Confusion Matrix:\n",
            "[[ 29141     43]\n",
            " [    72 118951]]\n",
            "Classification Report:\n",
            "              precision    recall  f1-score   support\n",
            "\n",
            "           0       1.00      1.00      1.00     29184\n",
            "           1       1.00      1.00      1.00    119023\n",
            "\n",
            "    accuracy                           1.00    148207\n",
            "   macro avg       1.00      1.00      1.00    148207\n",
            "weighted avg       1.00      1.00      1.00    148207\n",
            "\n"
          ]
        }
      ]
    },
    {
      "cell_type": "markdown",
      "source": [
        "**Step 10:** Save and Load the Model (Optional)"
      ],
      "metadata": {
        "id": "AgD-681IFmQu"
      }
    },
    {
      "cell_type": "markdown",
      "source": [
        "You can save the trained model for future use or deployment."
      ],
      "metadata": {
        "id": "0R8R3AH_Fqen"
      }
    },
    {
      "cell_type": "code",
      "source": [
        "# Save the model\n",
        "model.save('/content/drive/My Drive/NIDS_ANN_Model.h5')\n",
        "\n",
        "# Load the model\n",
        "# from tensorflow.keras.models import load_model\n",
        "# model = load_model('/content/drive/My Drive/NIDS_ANN_Model.h5')"
      ],
      "metadata": {
        "colab": {
          "base_uri": "https://localhost:8080/",
          "height": 0
        },
        "id": "gjAn0RBsFt5N",
        "outputId": "ed634e33-6ec7-42eb-ca1e-6bc0e30d35d3"
      },
      "execution_count": 80,
      "outputs": [
        {
          "output_type": "stream",
          "name": "stderr",
          "text": [
            "/usr/local/lib/python3.10/dist-packages/keras/src/engine/training.py:3103: UserWarning: You are saving your model as an HDF5 file via `model.save()`. This file format is considered legacy. We recommend using instead the native Keras format, e.g. `model.save('my_model.keras')`.\n",
            "  saving_api.save_model(\n"
          ]
        }
      ]
    },
    {
      "cell_type": "markdown",
      "source": [
        "**Explanation:**</br>\n",
        "**Data Preprocessing:** The data is encoded and scaled to prepare it for training. This step ensures the model handles the data correctly.</br>\n",
        "**Model Construction:** The ANN model is built with multiple dense layers and dropout layers to prevent overfitting. The model is compiled using the Adam optimizer and binary cross-entropy loss.</br>\n",
        "**Training and Validation:** The model is trained with the training set, and validation is done to monitor overfitting or underfitting.</br>\n",
        "**Testing and Evaluation:** The model's performance is evaluated using the test set, and key metrics such as accuracy, confusion matrix, and classification report are generated.</br>\n",
        "**Model Saving:** The trained model can be saved for future use or deployment, allowing you to reload and use it without retraining."
      ],
      "metadata": {
        "id": "zlmqoRVqF46O"
      }
    }
  ]
}